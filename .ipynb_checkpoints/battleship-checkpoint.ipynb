{
 "cells": [
  {
   "cell_type": "code",
   "execution_count": 5,
   "id": "dd87b147",
   "metadata": {},
   "outputs": [
    {
     "name": "stdout",
     "output_type": "stream",
     "text": [
      "The two players are Ting and Eric\n",
      "The two players are Ting and Eric\n"
     ]
    }
   ],
   "source": [
    "class Player:\n",
    "    def __init__(self, name):\n",
    "        self.name = name\n",
    "    \n",
    "p1 = Player(\"Ting\")\n",
    "p2 = Player(\"Eric\")\n",
    "\n",
    "print(f\"The two players are {p1.name} and {p2.name}\")"
   ]
  },
  {
   "cell_type": "code",
   "execution_count": null,
   "id": "25b89c62",
   "metadata": {},
   "outputs": [],
   "source": []
  }
 ],
 "metadata": {
  "kernelspec": {
   "display_name": "Python 3 (ipykernel)",
   "language": "python",
   "name": "python3"
  },
  "language_info": {
   "codemirror_mode": {
    "name": "ipython",
    "version": 3
   },
   "file_extension": ".py",
   "mimetype": "text/x-python",
   "name": "python",
   "nbconvert_exporter": "python",
   "pygments_lexer": "ipython3",
   "version": "3.9.7"
  }
 },
 "nbformat": 4,
 "nbformat_minor": 5
}
