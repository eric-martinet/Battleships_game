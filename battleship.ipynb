{
 "cells": [
  {
   "cell_type": "code",
   "execution_count": 36,
   "id": "69987be0",
   "metadata": {},
   "outputs": [
    {
     "name": "stdout",
     "output_type": "stream",
     "text": [
      "Player Ting created!\n",
      "Player Eric created!\n",
      "----------\n",
      "----------\n",
      "----------\n",
      "----------\n",
      "----------\n",
      "----------\n",
      "----------\n",
      "----------\n",
      "----------\n",
      "----------\n"
     ]
    }
   ],
   "source": [
    "class Player:\n",
    "    def __init__(self, name):\n",
    "        self.name = name\n",
    "        print(f\"Player {self.name} created!\")\n",
    "        self.create_grid()\n",
    "    \n",
    "    def create_grid(self):\n",
    "        self.grid=[['-' for i in range(10)] for j in range(10)] # Create empty grid\n",
    "        \n",
    "    def display_grid(self):\n",
    "        print(\"\\n\".join([\"\".join(self.grid[i]) for i in range(10)]))\n",
    "        \n",
    "        \n",
    "    \n",
    "p1 = Player(\"Ting\")\n",
    "p2 = Player(\"Eric\")\n",
    "\n",
    "p1.display_grid()"
   ]
  },
  {
   "cell_type": "code",
   "execution_count": null,
   "id": "4a6f0a20",
   "metadata": {},
   "outputs": [],
   "source": []
  }
 ],
 "metadata": {
  "kernelspec": {
   "display_name": "Python 3 (ipykernel)",
   "language": "python",
   "name": "python3"
  },
  "language_info": {
   "codemirror_mode": {
    "name": "ipython",
    "version": 3
   },
   "file_extension": ".py",
   "mimetype": "text/x-python",
   "name": "python",
   "nbconvert_exporter": "python",
   "pygments_lexer": "ipython3",
   "version": "3.9.7"
  }
 },
 "nbformat": 4,
 "nbformat_minor": 5
}
